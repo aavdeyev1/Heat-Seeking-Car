{
 "cells": [
  {
   "cell_type": "code",
   "execution_count": 98,
   "metadata": {},
   "outputs": [],
   "source": [
    "import numpy as np\n",
    "import helper_funcs as hf"
   ]
  },
  {
   "cell_type": "code",
   "execution_count": 99,
   "metadata": {},
   "outputs": [
    {
     "ename": "AttributeError",
     "evalue": "module 'helper_funcs' has no attribute 'IBO'",
     "output_type": "error",
     "traceback": [
      "\u001b[0;31m---------------------------------------------------------------------------\u001b[0m",
      "\u001b[0;31mAttributeError\u001b[0m                            Traceback (most recent call last)",
      "\u001b[1;32m/Users/amelyaavdeyev/Desktop/490-capstone/codes/testing_simple_rev1.ipynb Cell 2'\u001b[0m in \u001b[0;36m<cell line: 7>\u001b[0;34m()\u001b[0m\n\u001b[1;32m      <a href='vscode-notebook-cell:/Users/amelyaavdeyev/Desktop/490-capstone/codes/testing_simple_rev1.ipynb#ch0000001?line=1'>2</a>\u001b[0m test_1 \u001b[39m=\u001b[39m np\u001b[39m.\u001b[39marray( [[\u001b[39m2\u001b[39m, \u001b[39m2\u001b[39m, \u001b[39m3\u001b[39m, \u001b[39m3\u001b[39m],\n\u001b[1;32m      <a href='vscode-notebook-cell:/Users/amelyaavdeyev/Desktop/490-capstone/codes/testing_simple_rev1.ipynb#ch0000001?line=2'>3</a>\u001b[0m                     [\u001b[39m2\u001b[39m, \u001b[39m2\u001b[39m, \u001b[39m3\u001b[39m, \u001b[39m3\u001b[39m],\n\u001b[1;32m      <a href='vscode-notebook-cell:/Users/amelyaavdeyev/Desktop/490-capstone/codes/testing_simple_rev1.ipynb#ch0000001?line=3'>4</a>\u001b[0m                     [\u001b[39m2\u001b[39m, \u001b[39m2\u001b[39m, \u001b[39m2\u001b[39m, \u001b[39m2\u001b[39m],\n\u001b[1;32m      <a href='vscode-notebook-cell:/Users/amelyaavdeyev/Desktop/490-capstone/codes/testing_simple_rev1.ipynb#ch0000001?line=4'>5</a>\u001b[0m                     [\u001b[39m2\u001b[39m, \u001b[39m2\u001b[39m, \u001b[39m2\u001b[39m, \u001b[39m2\u001b[39m]])\n\u001b[1;32m      <a href='vscode-notebook-cell:/Users/amelyaavdeyev/Desktop/490-capstone/codes/testing_simple_rev1.ipynb#ch0000001?line=5'>6</a>\u001b[0m test_cpy \u001b[39m=\u001b[39m np\u001b[39m.\u001b[39marray(test_1)\n\u001b[0;32m----> <a href='vscode-notebook-cell:/Users/amelyaavdeyev/Desktop/490-capstone/codes/testing_simple_rev1.ipynb#ch0000001?line=6'>7</a>\u001b[0m testing1 \u001b[39m=\u001b[39m hf\u001b[39m.\u001b[39;49mIBO(arr\u001b[39m=\u001b[39mtest_1)\n\u001b[1;32m      <a href='vscode-notebook-cell:/Users/amelyaavdeyev/Desktop/490-capstone/codes/testing_simple_rev1.ipynb#ch0000001?line=7'>8</a>\u001b[0m \u001b[39mprint\u001b[39m(\u001b[39mf\u001b[39m\u001b[39m\"\u001b[39m\u001b[39mBefore:\u001b[39m\u001b[39m\\n\u001b[39;00m\u001b[39m{\u001b[39;00mtest_cpy\u001b[39m}\u001b[39;00m\u001b[39m\\n\u001b[39;00m\u001b[39mAfter:\u001b[39m\u001b[39m\\n\u001b[39;00m\u001b[39m{\u001b[39;00mtesting1\u001b[39m}\u001b[39;00m\u001b[39m\"\u001b[39m)\n",
      "\u001b[0;31mAttributeError\u001b[0m: module 'helper_funcs' has no attribute 'IBO'"
     ]
    }
   ],
   "source": [
    "# init test arrays, 2D right now\n",
    "test_1 = np.array( [[2, 2, 3, 3],\n",
    "                    [2, 2, 3, 3],\n",
    "                    [2, 2, 2, 2],\n",
    "                    [2, 2, 2, 2]])\n",
    "test_cpy = np.array(test_1)\n",
    "testing1 = hf.IBO(arr=test_1)\n",
    "print(f\"Before:\\n{test_cpy}\\nAfter:\\n{testing1}\")"
   ]
  }
 ],
 "metadata": {
  "interpreter": {
   "hash": "aee8b7b246df8f9039afb4144a1f6fd8d2ca17a180786b69acc140d282b71a49"
  },
  "kernelspec": {
   "display_name": "Python 3.9.7 64-bit",
   "language": "python",
   "name": "python3"
  },
  "language_info": {
   "codemirror_mode": {
    "name": "ipython",
    "version": 3
   },
   "file_extension": ".py",
   "mimetype": "text/x-python",
   "name": "python",
   "nbconvert_exporter": "python",
   "pygments_lexer": "ipython3",
   "version": "3.9.7"
  },
  "orig_nbformat": 4
 },
 "nbformat": 4,
 "nbformat_minor": 2
}
