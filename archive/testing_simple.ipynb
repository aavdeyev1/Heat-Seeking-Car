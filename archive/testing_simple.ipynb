{
 "cells": [
  {
   "cell_type": "code",
   "execution_count": 38,
   "metadata": {},
   "outputs": [],
   "source": [
    "import numpy as np\n",
    "\n",
    "# Size of Thermal Camera Arrays\n",
    "T_m = 4\n",
    "T_n = 4\n",
    "\n",
    "# super simple decision-deciding func\n",
    "def T_to_D(arr):\n",
    "    max = np.amax(arr)\n",
    "    result = np.where(arr == max)\n",
    "    fwd_bound = T_m / 2\n",
    "    lft_bound = T_n / 2\n",
    "    max_index = list(zip(result[0], result[1]))\n",
    "    # [0]=fwd, [1]=rt, [2]=bwd, [3]=lft\n",
    "    dir_maxes = np.array([0, 0, 0, 0], dtype=np.uintc)\n",
    "    for max_tuple in max_index:\n",
    "        if max_tuple[0] < fwd_bound:\n",
    "            dir_maxes[0] += 1\n",
    "        else:\n",
    "            dir_maxes[2] += 1\n",
    "        if max_tuple[1] < lft_bound:\n",
    "            dir_maxes[3] += 1\n",
    "        else:\n",
    "            dir_maxes[1] += 1 \n",
    "    return np.where(dir_maxes == np.amax(dir_maxes))[0][0]\n"
   ]
  },
  {
   "cell_type": "code",
   "execution_count": 39,
   "metadata": {},
   "outputs": [
    {
     "name": "stdout",
     "output_type": "stream",
     "text": [
      "Testing: 0 | 0 | 2\n"
     ]
    }
   ],
   "source": [
    "# init test arrays, 2D right now\n",
    "test_1 = np.array([[0, 1.0, 1.0, 0],\n",
    "                    [0, 0, 0, 0],\n",
    "                    [0, 0, 0, 0],\n",
    "                    [0, 1.0, 0, 0]])\n",
    "test_fwd = np.array([[.8, .9, .9, .8],\n",
    "                    [.7, .8, .8, .7],\n",
    "                    [.6, .7, .7, .6],\n",
    "                    [.6, .6, .6, .6]])\n",
    "test_bwd = np.array([[.6, .6, .6, .6],\n",
    "                    [.6, .7, .7, .6],\n",
    "                    [.7, .8, .8, .7],\n",
    "                    [.8, .9, .9, .8]])\n",
    "testing1 = T_to_D(arr=test_1)\n",
    "testing2 = T_to_D(arr=test_fwd)\n",
    "testing3 = T_to_D(arr=test_bwd)\n",
    "print(f\"Testing: {testing1} | {testing2} | {testing3}\")"
   ]
  }
 ],
 "metadata": {
  "interpreter": {
   "hash": "aee8b7b246df8f9039afb4144a1f6fd8d2ca17a180786b69acc140d282b71a49"
  },
  "kernelspec": {
   "display_name": "Python 3.9.7 64-bit",
   "language": "python",
   "name": "python3"
  },
  "language_info": {
   "codemirror_mode": {
    "name": "ipython",
    "version": 3
   },
   "file_extension": ".py",
   "mimetype": "text/x-python",
   "name": "python",
   "nbconvert_exporter": "python",
   "pygments_lexer": "ipython3",
   "version": "3.9.7"
  },
  "orig_nbformat": 4
 },
 "nbformat": 4,
 "nbformat_minor": 2
}
